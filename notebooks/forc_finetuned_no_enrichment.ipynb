{
 "cells": [
  {
   "cell_type": "markdown",
   "metadata": {
    "id": "jX2-_Z_5KVtA"
   },
   "source": [
    "# FoRC Task 1, Subtask A\n",
    "\n",
    "- fine-tuned approach\n",
    "- no enrichments"
   ]
  },
  {
   "cell_type": "markdown",
   "metadata": {
    "id": "0gKh1cQ5OZGW"
   },
   "source": [
    "# 0. Imports and setup"
   ]
  },
  {
   "cell_type": "code",
   "execution_count": null,
   "metadata": {
    "colab": {
     "base_uri": "https://localhost:8080/",
     "height": 1000
    },
    "id": "HUaaIOegOtMz",
    "outputId": "993afa4f-f128-4afd-cd02-881654f00751"
   },
   "outputs": [],
   "source": [
    "# uncomment following lines for installation\n",
    "# !pip install datasets\n",
    "# !pip install accelerate -U\n",
    "# !pip install -U transformers"
   ]
  },
  {
   "cell_type": "code",
   "execution_count": null,
   "metadata": {
    "id": "aCnVzRxXOclk"
   },
   "outputs": [],
   "source": [
    "# import packages\n",
    "import torch\n",
    "import numpy as np\n",
    "import pandas as pd\n",
    "import pyarrow as pa\n",
    "from pathlib import Path\n",
    "from sklearn.preprocessing import LabelEncoder\n",
    "from transformers import (\n",
    "    AutoTokenizer,\n",
    "    AutoModelForSequenceClassification,\n",
    "    BertConfig,\n",
    "    get_scheduler,\n",
    "    TrainingArguments,\n",
    "    Trainer,\n",
    "    EarlyStoppingCallback,\n",
    ")\n",
    "from datasets import Dataset, DatasetDict\n",
    "from torch.utils.data import DataLoader\n",
    "from sklearn.metrics import accuracy_score, recall_score, precision_score, f1_score"
   ]
  },
  {
   "cell_type": "code",
   "execution_count": null,
   "metadata": {
    "colab": {
     "base_uri": "https://localhost:8080/"
    },
    "id": "tCULWreTOutv",
    "outputId": "8102e688-6be2-4ef7-95c1-e9b0e1322c8b"
   },
   "outputs": [],
   "source": [
    "# device agnostic\n",
    "device = torch.device(\"cuda\") if torch.cuda.is_available() else torch.device(\"cpu\")\n",
    "print(f\"Cuda-Device: {device}\")"
   ]
  },
  {
   "cell_type": "markdown",
   "source": [
    "# 1. Data preparation"
   ],
   "metadata": {
    "id": "8lLqddsBDBGb"
   }
  },
  {
   "cell_type": "markdown",
   "metadata": {
    "id": "8yptk-imJuHi"
   },
   "source": [
    "## 1.1 Load datasets"
   ]
  },
  {
   "cell_type": "code",
   "source": [
    "hf_models = [\n",
    "    \"bert-base-uncased\",\n",
    "    \"allenai/scibert_scivocab_uncased\",\n",
    "    \"malteos/scincl\",\n",
    "    \"allenai/specter2_base\",\n",
    "    \"allenai/specter2_aug2023refresh_base\",\n",
    "]"
   ],
   "metadata": {
    "id": "LXymAeKJoqd8"
   },
   "execution_count": null,
   "outputs": []
  },
  {
   "cell_type": "code",
   "source": [
    "hf_model = hf_models[3]\n",
    "hf_model"
   ],
   "metadata": {
    "colab": {
     "base_uri": "https://localhost:8080/",
     "height": 34
    },
    "id": "DOZz44vfjWeq",
    "outputId": "a20a070f-0b86-4169-d26f-c04598543dab"
   },
   "execution_count": null,
   "outputs": []
  },
  {
   "cell_type": "code",
   "execution_count": null,
   "metadata": {
    "id": "GaPWikZHR7es"
   },
   "outputs": [],
   "source": [
    "def load_dataset(f: Path, features: dict):\n",
    "    data = pd.read_csv(f)\n",
    "    X = data[features]\n",
    "    return X"
   ]
  },
  {
   "cell_type": "code",
   "execution_count": null,
   "metadata": {
    "colab": {
     "base_uri": "https://localhost:8080/"
    },
    "id": "xhZa3WUXKJea",
    "outputId": "6b7e39e5-2bdb-4e97-bc44-de1aaf3d8beb"
   },
   "outputs": [],
   "source": [
    "# path to datasets\n",
    "path_data = Path(\"../datasets\")\n",
    "\n",
    "# Load cleaned/preprocessed datasets (not enriched)\n",
    "f_train = path_data / \"train_cleaned.csv\"\n",
    "f_val = path_data / \"val_cleaned.csv\"\n",
    "\n",
    "# define data mapping\n",
    "features = cols = [\"abstract\", \"title\", \"label\"]\n",
    "\n",
    "df_train = load_dataset(f_train, features)\n",
    "df_val = load_dataset(f_val, features)\n",
    "\n",
    "print(f\"Train has {len(df_train)} samples\")\n",
    "print(f\"Validation has {len(df_val)} samples\")"
   ]
  },
  {
   "cell_type": "markdown",
   "metadata": {
    "id": "bhmsv5JpKKow"
   },
   "source": [
    "## 2.2 Clean and prepare datasets"
   ]
  },
  {
   "cell_type": "code",
   "execution_count": null,
   "metadata": {
    "colab": {
     "base_uri": "https://localhost:8080/"
    },
    "id": "bzMhgEilKLEw",
    "outputId": "5660fa72-dba8-49ce-c752-a3b0c541fee3"
   },
   "outputs": [],
   "source": [
    "def count_nan(df):\n",
    "    df_nan = df[df.isna().any(axis=1)]\n",
    "    return len(df_nan)\n",
    "\n",
    "\n",
    "print(f\"Before cleaning:\")\n",
    "print(f\"train-samples with NaN:{count_nan(df_train)}\")\n",
    "print(f\"val-samples with NaN:{count_nan(df_val)}\")\n",
    "\n",
    "# remove nan values (inplace) with emptry string (we only have string values here)\n",
    "df_train.fillna(\"\", inplace=True)\n",
    "df_val.fillna(\"\", inplace=True)\n",
    "\n",
    "print(f\"\\nAfter cleaning:\")\n",
    "print(f\"train-samples with NaN:{count_nan(df_train)}\")\n",
    "print(f\"val-samples with NaN:{count_nan(df_train)}\")"
   ]
  },
  {
   "cell_type": "code",
   "execution_count": null,
   "metadata": {
    "colab": {
     "base_uri": "https://localhost:8080/"
    },
    "id": "lqjF7RFB9PhI",
    "outputId": "e51ad9fe-24a2-453f-bc2d-fb34884b544d"
   },
   "outputs": [],
   "source": [
    "df_train.shape"
   ]
  },
  {
   "cell_type": "code",
   "execution_count": null,
   "metadata": {
    "colab": {
     "base_uri": "https://localhost:8080/"
    },
    "id": "JS12uQP96bAr",
    "outputId": "980cb1ca-e22f-4405-8e23-87f656bac5c4"
   },
   "outputs": [],
   "source": [
    "# encode labels to numbers\n",
    "le = LabelEncoder()\n",
    "le.fit(df_train[\"label\"])\n",
    "df_train[\"labels\"] = le.transform(df_train[\"label\"])\n",
    "df_val[\"labels\"] = le.transform(df_val[\"label\"])\n",
    "df_train[\"labels\"][:5], df_val[\"labels\"][:5]"
   ]
  },
  {
   "cell_type": "code",
   "execution_count": null,
   "metadata": {
    "id": "m5yrdtQnKQTI"
   },
   "outputs": [],
   "source": [
    "# create tokenizer (pretrained for scientific papers)\n",
    "tokenizer = AutoTokenizer.from_pretrained(hf_model)"
   ]
  },
  {
   "cell_type": "code",
   "execution_count": null,
   "metadata": {
    "colab": {
     "base_uri": "https://localhost:8080/",
     "height": 424
    },
    "id": "nlGA6uWp6a3P",
    "outputId": "92e9acc2-bbbf-4b4a-c807-928fe56a5924"
   },
   "outputs": [],
   "source": [
    "# Show label and label id\n",
    "df_train[[\"label\", \"labels\"]]"
   ]
  },
  {
   "cell_type": "code",
   "execution_count": null,
   "metadata": {
    "colab": {
     "base_uri": "https://localhost:8080/"
    },
    "id": "pVDm7HdFk2Av",
    "outputId": "49e7fb2d-2481-4e12-b0f8-abef990fb497"
   },
   "outputs": [],
   "source": [
    "df_train.keys()"
   ]
  },
  {
   "cell_type": "code",
   "execution_count": null,
   "metadata": {
    "id": "_Rdlc3lmMFec"
   },
   "outputs": [],
   "source": [
    "# Prepare BERT input text\n",
    "df_train[\"text\"] = df_train[\"title\"] + tokenizer.sep_token + df_train[\"abstract\"]\n",
    "df_val[\"text\"] = df_val[\"title\"] + tokenizer.sep_token + df_val[\"abstract\"]"
   ]
  },
  {
   "cell_type": "code",
   "execution_count": null,
   "metadata": {
    "id": "Qz3NcsQqMUJr"
   },
   "outputs": [],
   "source": [
    "# Remove other columns (not needed right now)\n",
    "df_train = df_train[[\"labels\", \"text\"]]\n",
    "df_val = df_val[[\"labels\", \"text\"]]"
   ]
  },
  {
   "cell_type": "code",
   "execution_count": null,
   "metadata": {
    "colab": {
     "base_uri": "https://localhost:8080/"
    },
    "id": "eCL62dF66agF",
    "outputId": "50a7f281-1e2f-473f-aa29-d18f94544592"
   },
   "outputs": [],
   "source": [
    "# Create Dataset (train)\n",
    "ds_train = Dataset(pa.Table.from_pandas(df_train))\n",
    "ds_train"
   ]
  },
  {
   "cell_type": "code",
   "execution_count": null,
   "metadata": {
    "colab": {
     "base_uri": "https://localhost:8080/"
    },
    "id": "zDxSlFKo5UEx",
    "outputId": "5013b0bc-623a-4287-d301-062ee93a8979"
   },
   "outputs": [],
   "source": [
    "# Create Dataset (validation)\n",
    "ds_val = Dataset(pa.Table.from_pandas(df_val))\n",
    "ds_val"
   ]
  },
  {
   "cell_type": "code",
   "execution_count": null,
   "metadata": {
    "colab": {
     "base_uri": "https://localhost:8080/"
    },
    "id": "BKj8y4NicTar",
    "outputId": "f68fc3e5-1a2b-4030-f319-9ad65d5cc34b"
   },
   "outputs": [],
   "source": [
    "# Create DatasetDict\n",
    "dd = DatasetDict({\"train\": ds_train, \"validation\": ds_val})\n",
    "dd"
   ]
  },
  {
   "cell_type": "code",
   "execution_count": null,
   "metadata": {
    "id": "dv3rv_lFQR8R"
   },
   "outputs": [],
   "source": [
    "# tokenize function\n",
    "def tokenize_function(row):\n",
    "    return tokenizer(row[\"text\"], padding=True, truncation=True, max_length=512)"
   ]
  },
  {
   "cell_type": "code",
   "execution_count": null,
   "metadata": {
    "colab": {
     "base_uri": "https://localhost:8080/",
     "height": 81,
     "referenced_widgets": [
      "601a0e618179415f86910df3f38c38a7",
      "4635a8aa7be04864bba32cb8f72a345f",
      "0c754e8fd2094bd59e6665a0fb1197b2",
      "af002916179f4a309f363b2912d5e6fa",
      "fd84e7c8ab67418e9ea3417640e1d576",
      "124f83e8aa22480fa64b33d223357538",
      "c9cf455cb4004e1c92421753e2aecc43",
      "5df48ab3c4634232a8279698e37bb92d",
      "c59f3aa66a6c41799672ff0813b39caf",
      "3cbeafaa1577428cb1fd4835eadb549b",
      "7e16581d9d774d63b8b90ab9eae70082",
      "e93b4a5d118d4492bf75157c5a87a4c8",
      "4f22bfb986084e00baa73612f5292f30",
      "536882a0868d47f7baf51da021d08656",
      "ed4704494f7d498f913ef4510f2309af",
      "a0fbdcb271e949e0b556decef89fa0d2",
      "d7b74af67a3e4cde894822597aa8c784",
      "bb48db51c7d24c7c9af3eb989e952834",
      "b116e51b2c094924978b824de228d203",
      "2465cd9f639c4d6581500ab05affc863",
      "bde3bcf994f447f2b0a48e1282b2fa49",
      "3145affec7974b77bdb38cc4270126a9"
     ]
    },
    "id": "s6PQ8tAFQSP7",
    "outputId": "4f9ac64c-c002-443e-a827-9461eda1135a"
   },
   "outputs": [],
   "source": [
    "# apply tokenization in dataset\n",
    "dd_tokenized = dd.map(tokenize_function, batched=True, batch_size=42000)"
   ]
  },
  {
   "cell_type": "code",
   "execution_count": null,
   "metadata": {
    "id": "xerq2PBCfZNP"
   },
   "outputs": [],
   "source": [
    "# set format to torch\n",
    "dd_tokenized.set_format(\"torch\")"
   ]
  },
  {
   "cell_type": "code",
   "execution_count": null,
   "metadata": {
    "id": "wMfWZUb570wC"
   },
   "outputs": [],
   "source": [
    "ds_train = dd_tokenized[\"train\"]\n",
    "ds_val = dd_tokenized[\"validation\"]"
   ]
  },
  {
   "cell_type": "code",
   "execution_count": null,
   "metadata": {
    "id": "W8bZ3XPh11Ue"
   },
   "outputs": [],
   "source": [
    "dd_tokenized[\"train\"] = dd_tokenized[\"train\"].remove_columns([\"text\"])\n",
    "dd_tokenized[\"validation\"] = dd_tokenized[\"validation\"].remove_columns([\"text\"])"
   ]
  },
  {
   "cell_type": "code",
   "execution_count": null,
   "metadata": {
    "colab": {
     "base_uri": "https://localhost:8080/"
    },
    "id": "j8llGumMhYY1",
    "outputId": "b3f6fd34-12bb-479d-fbad-62a8e8567015"
   },
   "outputs": [],
   "source": [
    "dd_tokenized"
   ]
  },
  {
   "cell_type": "markdown",
   "metadata": {
    "id": "D-OILg_v3enn"
   },
   "source": []
  },
  {
   "cell_type": "markdown",
   "source": [
    "# 2. Training"
   ],
   "metadata": {
    "id": "a8XcxWQpDvT2"
   }
  },
  {
   "cell_type": "markdown",
   "metadata": {
    "id": "rUdmI7uGKLcV"
   },
   "source": [
    "## 2.1 Build Model and prepare Dataset for iteration"
   ]
  },
  {
   "cell_type": "code",
   "execution_count": null,
   "metadata": {
    "colab": {
     "base_uri": "https://localhost:8080/"
    },
    "id": "dPkkEWb3K_qc",
    "outputId": "e8ce1d23-4f5d-4a46-9891-d73562a17590"
   },
   "outputs": [],
   "source": [
    "# Create the model (here BERT with DenseLayer on top)\n",
    "# Note: For more than 2 Labels the standard loss_fn is CrossEntropyLoss()\n",
    "model = AutoModelForSequenceClassification.from_pretrained(hf_model, num_labels=123)"
   ]
  },
  {
   "cell_type": "markdown",
   "metadata": {
    "id": "lJcDplPrK_9f"
   },
   "source": [
    "## 2.2 Setup loss and optimizer"
   ]
  },
  {
   "cell_type": "code",
   "execution_count": null,
   "metadata": {
    "colab": {
     "base_uri": "https://localhost:8080/"
    },
    "id": "xH7fkr75sgb2",
    "outputId": "f0d24985-a0b7-41a6-8874-0e15819d7fc3"
   },
   "outputs": [],
   "source": [
    "# send model to device\n",
    "model.to(device)"
   ]
  },
  {
   "cell_type": "markdown",
   "metadata": {
    "id": "uUUSg60RLAE-"
   },
   "source": [
    "## 2.3 Train model"
   ]
  },
  {
   "cell_type": "code",
   "execution_count": null,
   "metadata": {
    "id": "BkuI_H45sU39"
   },
   "outputs": [],
   "source": [
    "# Metrics for evaluation\n",
    "def compute_metrics(p):\n",
    "    pred, labels = p\n",
    "    pred = np.argmax(pred, axis=1)\n",
    "\n",
    "    accuracy = accuracy_score(y_true=labels, y_pred=pred)\n",
    "    recall = recall_score(y_true=labels, y_pred=pred, average=\"weighted\")\n",
    "    precision = precision_score(y_true=labels, y_pred=pred, average=\"weighted\")\n",
    "    f1 = f1_score(y_true=labels, y_pred=pred, average=\"weighted\")\n",
    "\n",
    "    return {\"accuracy\": accuracy, \"precision\": precision, \"recall\": recall, \"f1\": f1}"
   ]
  },
  {
   "cell_type": "code",
   "execution_count": null,
   "metadata": {
    "id": "zBJOgjMeza_W"
   },
   "outputs": [],
   "source": [
    "# Train with trainer\n",
    "\n",
    "# Define Trainer\n",
    "args = TrainingArguments(\n",
    "    output_dir=\"\",  # add output directory\n",
    "    evaluation_strategy=\"epoch\",\n",
    "    save_strategy=\"epoch\",\n",
    "    per_device_train_batch_size=32,\n",
    "    per_device_eval_batch_size=32,\n",
    "    num_train_epochs=3,\n",
    "    learning_rate=1e-4,\n",
    "    weight_decay=0.001,\n",
    "    load_best_model_at_end=True,\n",
    ")\n",
    "\n",
    "trainer = Trainer(\n",
    "    model=model,\n",
    "    args=args,\n",
    "    train_dataset=ds_train,\n",
    "    eval_dataset=ds_val,\n",
    "    compute_metrics=compute_metrics,\n",
    ")"
   ]
  },
  {
   "cell_type": "code",
   "execution_count": null,
   "metadata": {
    "colab": {
     "base_uri": "https://localhost:8080/",
     "height": 416
    },
    "id": "r026xS2zIIll",
    "outputId": "e97a8ec5-17ac-4ff0-cb1c-3fdce2f87755"
   },
   "outputs": [],
   "source": [
    "trainer.train()"
   ]
  },
  {
   "cell_type": "markdown",
   "source": [
    "## 2.4 Write Model"
   ],
   "metadata": {
    "collapsed": false
   }
  },
  {
   "cell_type": "code",
   "execution_count": null,
   "metadata": {
    "id": "wJkWno4Dsbv-"
   },
   "outputs": [],
   "source": [
    "trainer.save_model(\"\")  # add save path for model"
   ]
  },
  {
   "cell_type": "markdown",
   "source": [
    "# 3. Predict"
   ],
   "metadata": {
    "id": "Xs1DYO9rELmJ"
   }
  },
  {
   "cell_type": "markdown",
   "metadata": {
    "id": "jfN2uvyWN9H2"
   },
   "source": [
    "## 3.1 Load Test File"
   ]
  },
  {
   "cell_type": "code",
   "execution_count": null,
   "metadata": {
    "id": "r2ynj0b_N9DV"
   },
   "outputs": [],
   "source": [
    "# create validation dataloader\n",
    "f_val = path_data / \"test_cleaned.csv\"\n",
    "features = [\"data_index\", \"title\", \"abstract\"]\n",
    "df_test = pd.read_csv(f_val)\n",
    "df_test = df_test[features]"
   ]
  },
  {
   "cell_type": "code",
   "execution_count": null,
   "metadata": {
    "colab": {
     "base_uri": "https://localhost:8080/"
    },
    "id": "iwF4SarmcdoR",
    "outputId": "72c45778-c51e-46fd-d0b0-8bc1c37bff8c"
   },
   "outputs": [],
   "source": [
    "df_test.keys()"
   ]
  },
  {
   "cell_type": "markdown",
   "metadata": {
    "id": "g9JE0RsEvJhL"
   },
   "source": [
    "## 3.2 Create predictions"
   ]
  },
  {
   "cell_type": "code",
   "execution_count": null,
   "metadata": {
    "id": "fIGYqWyavPFa"
   },
   "outputs": [],
   "source": [
    "# remove nan from abstracts\n",
    "df_test.fillna(\"\", inplace=True)\n",
    "# Prepare BERT text input\n",
    "df_test[\"text\"] = df_test[\"title\"] + tokenizer.sep_token + df_test[\"abstract\"]"
   ]
  },
  {
   "cell_type": "code",
   "execution_count": null,
   "metadata": {
    "id": "5S_EttZdwwlr"
   },
   "outputs": [],
   "source": [
    "test_data = df_test[[\"text\"]]"
   ]
  },
  {
   "cell_type": "markdown",
   "metadata": {
    "id": "-EsTg6t7yaW2"
   },
   "source": [
    "# 3.3 Convert HF dataset and make DatasetDict"
   ]
  },
  {
   "cell_type": "code",
   "execution_count": null,
   "metadata": {
    "id": "dtrSWvdDyfH9"
   },
   "outputs": [],
   "source": [
    "test_dataset = Dataset(pa.Table.from_pandas(test_data))\n",
    "dd_test = DatasetDict({\"test\": test_dataset})"
   ]
  },
  {
   "cell_type": "code",
   "execution_count": null,
   "metadata": {
    "colab": {
     "base_uri": "https://localhost:8080/",
     "height": 49,
     "referenced_widgets": [
      "77428b59ee514bf09a55860df29aad83",
      "cfd951450ac048579538522d08ea1e86",
      "da604885fda241e7b5419399d6e1e0e1",
      "cf597d8f300249d78d25532179f2e120",
      "0d1abd17b7d94b4d99af23330702da15",
      "dc0e644616cb4adc9b5c795c256b4e69",
      "ff72193138e54017b37975864ae7a7be",
      "7a7e3d800ca74aec94044e36a4adad38",
      "dddb95414dfd4dcba5c28f01e1947297",
      "63ecfa04f3d6454e98a4f48e36d49d56",
      "0f91a71907264c508fb1b5dbfbbeebf9"
     ]
    },
    "id": "YYhtCklb01oN",
    "outputId": "cb99cd6d-cfc1-4b55-bcae-cd3901d5990d"
   },
   "outputs": [],
   "source": [
    "# Tokenize\n",
    "test_tokenized = dd_test.map(tokenize_function, batched=True)"
   ]
  },
  {
   "cell_type": "code",
   "execution_count": null,
   "metadata": {
    "id": "THNdtL041QYO"
   },
   "outputs": [],
   "source": [
    "# remove unnecessary columns from dataset\n",
    "test_tokenized = test_tokenized.remove_columns([\"text\"])"
   ]
  },
  {
   "cell_type": "code",
   "execution_count": null,
   "metadata": {
    "id": "AFXmSmTz1faU"
   },
   "outputs": [],
   "source": [
    "test_tokenized.set_format(\"torch\")\n",
    "test_dataloader = DataLoader(test_tokenized[\"test\"], shuffle=False, batch_size=8)"
   ]
  },
  {
   "cell_type": "markdown",
   "metadata": {
    "id": "0djbNRMkN89M"
   },
   "source": [
    "# 3.4 Write predictions to file"
   ]
  },
  {
   "cell_type": "code",
   "execution_count": null,
   "metadata": {
    "id": "nBZAMNc9KLeu"
   },
   "outputs": [],
   "source": [
    "# eval loop\n",
    "test_preds = []\n",
    "\n",
    "for batch in test_dataloader:\n",
    "    batch = {k: v.to(device) for k, v in batch.items()}\n",
    "    with torch.no_grad():\n",
    "        outputs = model(**batch)\n",
    "\n",
    "    logits = outputs.logits\n",
    "    predictions = torch.argmax(logits, dim=-1)\n",
    "    test_preds.append(predictions)"
   ]
  },
  {
   "cell_type": "code",
   "execution_count": null,
   "metadata": {
    "id": "x8FLBTd42IbH"
   },
   "outputs": [],
   "source": [
    "test_preds_flat = [int(item) for items in test_preds for item in items]"
   ]
  },
  {
   "cell_type": "code",
   "execution_count": null,
   "metadata": {
    "id": "ID5ctA862Kvk"
   },
   "outputs": [],
   "source": [
    "test_preds_text = [le.inverse_transform([pred])[0] for pred in test_preds_flat]"
   ]
  },
  {
   "cell_type": "code",
   "execution_count": null,
   "metadata": {
    "id": "pEJuNlGz2Mik",
    "colab": {
     "base_uri": "https://localhost:8080/"
    },
    "outputId": "2feb6ad8-af1b-4ede-fb11-1c484e3ae454"
   },
   "outputs": [],
   "source": [
    "test_preds_text"
   ]
  },
  {
   "cell_type": "code",
   "execution_count": null,
   "metadata": {
    "id": "gic9YBjm2O2t"
   },
   "outputs": [],
   "source": [
    "f_val = \"\"  # add where to store predictions in csv-format\n",
    "df_test[\"target\"] = test_preds_text\n",
    "df_test[[\"data_index\", \"target\"]].to_csv(f_val)"
   ]
  },
  {
   "cell_type": "code",
   "execution_count": null,
   "metadata": {
    "id": "o1kPBzF6fN0G",
    "colab": {
     "base_uri": "https://localhost:8080/",
     "height": 893
    },
    "outputId": "7e3e09ee-0376-45b8-e9a9-9ac8e0d3f1b5"
   },
   "outputs": [],
   "source": [
    "df_test"
   ]
  }
 ],
 "metadata": {
  "colab": {
   "machine_shape": "hm",
   "provenance": [],
   "gpuType": "A100"
  },
  "kernelspec": {
   "display_name": "Python 3",
   "name": "python3"
  },
  "language_info": {
   "name": "python"
  },
  "widgets": {
   "application/vnd.jupyter.widget-state+json": {
    "601a0e618179415f86910df3f38c38a7": {
     "model_module": "@jupyter-widgets/controls",
     "model_name": "HBoxModel",
     "model_module_version": "1.5.0",
     "state": {
      "_dom_classes": [],
      "_model_module": "@jupyter-widgets/controls",
      "_model_module_version": "1.5.0",
      "_model_name": "HBoxModel",
      "_view_count": null,
      "_view_module": "@jupyter-widgets/controls",
      "_view_module_version": "1.5.0",
      "_view_name": "HBoxView",
      "box_style": "",
      "children": [
       "IPY_MODEL_4635a8aa7be04864bba32cb8f72a345f",
       "IPY_MODEL_0c754e8fd2094bd59e6665a0fb1197b2",
       "IPY_MODEL_af002916179f4a309f363b2912d5e6fa"
      ],
      "layout": "IPY_MODEL_fd84e7c8ab67418e9ea3417640e1d576"
     }
    },
    "4635a8aa7be04864bba32cb8f72a345f": {
     "model_module": "@jupyter-widgets/controls",
     "model_name": "HTMLModel",
     "model_module_version": "1.5.0",
     "state": {
      "_dom_classes": [],
      "_model_module": "@jupyter-widgets/controls",
      "_model_module_version": "1.5.0",
      "_model_name": "HTMLModel",
      "_view_count": null,
      "_view_module": "@jupyter-widgets/controls",
      "_view_module_version": "1.5.0",
      "_view_name": "HTMLView",
      "description": "",
      "description_tooltip": null,
      "layout": "IPY_MODEL_124f83e8aa22480fa64b33d223357538",
      "placeholder": "​",
      "style": "IPY_MODEL_c9cf455cb4004e1c92421753e2aecc43",
      "value": "Map: 100%"
     }
    },
    "0c754e8fd2094bd59e6665a0fb1197b2": {
     "model_module": "@jupyter-widgets/controls",
     "model_name": "FloatProgressModel",
     "model_module_version": "1.5.0",
     "state": {
      "_dom_classes": [],
      "_model_module": "@jupyter-widgets/controls",
      "_model_module_version": "1.5.0",
      "_model_name": "FloatProgressModel",
      "_view_count": null,
      "_view_module": "@jupyter-widgets/controls",
      "_view_module_version": "1.5.0",
      "_view_name": "ProgressView",
      "bar_style": "success",
      "description": "",
      "description_tooltip": null,
      "layout": "IPY_MODEL_5df48ab3c4634232a8279698e37bb92d",
      "max": 41540,
      "min": 0,
      "orientation": "horizontal",
      "style": "IPY_MODEL_c59f3aa66a6c41799672ff0813b39caf",
      "value": 41540
     }
    },
    "af002916179f4a309f363b2912d5e6fa": {
     "model_module": "@jupyter-widgets/controls",
     "model_name": "HTMLModel",
     "model_module_version": "1.5.0",
     "state": {
      "_dom_classes": [],
      "_model_module": "@jupyter-widgets/controls",
      "_model_module_version": "1.5.0",
      "_model_name": "HTMLModel",
      "_view_count": null,
      "_view_module": "@jupyter-widgets/controls",
      "_view_module_version": "1.5.0",
      "_view_name": "HTMLView",
      "description": "",
      "description_tooltip": null,
      "layout": "IPY_MODEL_3cbeafaa1577428cb1fd4835eadb549b",
      "placeholder": "​",
      "style": "IPY_MODEL_7e16581d9d774d63b8b90ab9eae70082",
      "value": " 41540/41540 [00:17&lt;00:00, 2352.67 examples/s]"
     }
    },
    "fd84e7c8ab67418e9ea3417640e1d576": {
     "model_module": "@jupyter-widgets/base",
     "model_name": "LayoutModel",
     "model_module_version": "1.2.0",
     "state": {
      "_model_module": "@jupyter-widgets/base",
      "_model_module_version": "1.2.0",
      "_model_name": "LayoutModel",
      "_view_count": null,
      "_view_module": "@jupyter-widgets/base",
      "_view_module_version": "1.2.0",
      "_view_name": "LayoutView",
      "align_content": null,
      "align_items": null,
      "align_self": null,
      "border": null,
      "bottom": null,
      "display": null,
      "flex": null,
      "flex_flow": null,
      "grid_area": null,
      "grid_auto_columns": null,
      "grid_auto_flow": null,
      "grid_auto_rows": null,
      "grid_column": null,
      "grid_gap": null,
      "grid_row": null,
      "grid_template_areas": null,
      "grid_template_columns": null,
      "grid_template_rows": null,
      "height": null,
      "justify_content": null,
      "justify_items": null,
      "left": null,
      "margin": null,
      "max_height": null,
      "max_width": null,
      "min_height": null,
      "min_width": null,
      "object_fit": null,
      "object_position": null,
      "order": null,
      "overflow": null,
      "overflow_x": null,
      "overflow_y": null,
      "padding": null,
      "right": null,
      "top": null,
      "visibility": null,
      "width": null
     }
    },
    "124f83e8aa22480fa64b33d223357538": {
     "model_module": "@jupyter-widgets/base",
     "model_name": "LayoutModel",
     "model_module_version": "1.2.0",
     "state": {
      "_model_module": "@jupyter-widgets/base",
      "_model_module_version": "1.2.0",
      "_model_name": "LayoutModel",
      "_view_count": null,
      "_view_module": "@jupyter-widgets/base",
      "_view_module_version": "1.2.0",
      "_view_name": "LayoutView",
      "align_content": null,
      "align_items": null,
      "align_self": null,
      "border": null,
      "bottom": null,
      "display": null,
      "flex": null,
      "flex_flow": null,
      "grid_area": null,
      "grid_auto_columns": null,
      "grid_auto_flow": null,
      "grid_auto_rows": null,
      "grid_column": null,
      "grid_gap": null,
      "grid_row": null,
      "grid_template_areas": null,
      "grid_template_columns": null,
      "grid_template_rows": null,
      "height": null,
      "justify_content": null,
      "justify_items": null,
      "left": null,
      "margin": null,
      "max_height": null,
      "max_width": null,
      "min_height": null,
      "min_width": null,
      "object_fit": null,
      "object_position": null,
      "order": null,
      "overflow": null,
      "overflow_x": null,
      "overflow_y": null,
      "padding": null,
      "right": null,
      "top": null,
      "visibility": null,
      "width": null
     }
    },
    "c9cf455cb4004e1c92421753e2aecc43": {
     "model_module": "@jupyter-widgets/controls",
     "model_name": "DescriptionStyleModel",
     "model_module_version": "1.5.0",
     "state": {
      "_model_module": "@jupyter-widgets/controls",
      "_model_module_version": "1.5.0",
      "_model_name": "DescriptionStyleModel",
      "_view_count": null,
      "_view_module": "@jupyter-widgets/base",
      "_view_module_version": "1.2.0",
      "_view_name": "StyleView",
      "description_width": ""
     }
    },
    "5df48ab3c4634232a8279698e37bb92d": {
     "model_module": "@jupyter-widgets/base",
     "model_name": "LayoutModel",
     "model_module_version": "1.2.0",
     "state": {
      "_model_module": "@jupyter-widgets/base",
      "_model_module_version": "1.2.0",
      "_model_name": "LayoutModel",
      "_view_count": null,
      "_view_module": "@jupyter-widgets/base",
      "_view_module_version": "1.2.0",
      "_view_name": "LayoutView",
      "align_content": null,
      "align_items": null,
      "align_self": null,
      "border": null,
      "bottom": null,
      "display": null,
      "flex": null,
      "flex_flow": null,
      "grid_area": null,
      "grid_auto_columns": null,
      "grid_auto_flow": null,
      "grid_auto_rows": null,
      "grid_column": null,
      "grid_gap": null,
      "grid_row": null,
      "grid_template_areas": null,
      "grid_template_columns": null,
      "grid_template_rows": null,
      "height": null,
      "justify_content": null,
      "justify_items": null,
      "left": null,
      "margin": null,
      "max_height": null,
      "max_width": null,
      "min_height": null,
      "min_width": null,
      "object_fit": null,
      "object_position": null,
      "order": null,
      "overflow": null,
      "overflow_x": null,
      "overflow_y": null,
      "padding": null,
      "right": null,
      "top": null,
      "visibility": null,
      "width": null
     }
    },
    "c59f3aa66a6c41799672ff0813b39caf": {
     "model_module": "@jupyter-widgets/controls",
     "model_name": "ProgressStyleModel",
     "model_module_version": "1.5.0",
     "state": {
      "_model_module": "@jupyter-widgets/controls",
      "_model_module_version": "1.5.0",
      "_model_name": "ProgressStyleModel",
      "_view_count": null,
      "_view_module": "@jupyter-widgets/base",
      "_view_module_version": "1.2.0",
      "_view_name": "StyleView",
      "bar_color": null,
      "description_width": ""
     }
    },
    "3cbeafaa1577428cb1fd4835eadb549b": {
     "model_module": "@jupyter-widgets/base",
     "model_name": "LayoutModel",
     "model_module_version": "1.2.0",
     "state": {
      "_model_module": "@jupyter-widgets/base",
      "_model_module_version": "1.2.0",
      "_model_name": "LayoutModel",
      "_view_count": null,
      "_view_module": "@jupyter-widgets/base",
      "_view_module_version": "1.2.0",
      "_view_name": "LayoutView",
      "align_content": null,
      "align_items": null,
      "align_self": null,
      "border": null,
      "bottom": null,
      "display": null,
      "flex": null,
      "flex_flow": null,
      "grid_area": null,
      "grid_auto_columns": null,
      "grid_auto_flow": null,
      "grid_auto_rows": null,
      "grid_column": null,
      "grid_gap": null,
      "grid_row": null,
      "grid_template_areas": null,
      "grid_template_columns": null,
      "grid_template_rows": null,
      "height": null,
      "justify_content": null,
      "justify_items": null,
      "left": null,
      "margin": null,
      "max_height": null,
      "max_width": null,
      "min_height": null,
      "min_width": null,
      "object_fit": null,
      "object_position": null,
      "order": null,
      "overflow": null,
      "overflow_x": null,
      "overflow_y": null,
      "padding": null,
      "right": null,
      "top": null,
      "visibility": null,
      "width": null
     }
    },
    "7e16581d9d774d63b8b90ab9eae70082": {
     "model_module": "@jupyter-widgets/controls",
     "model_name": "DescriptionStyleModel",
     "model_module_version": "1.5.0",
     "state": {
      "_model_module": "@jupyter-widgets/controls",
      "_model_module_version": "1.5.0",
      "_model_name": "DescriptionStyleModel",
      "_view_count": null,
      "_view_module": "@jupyter-widgets/base",
      "_view_module_version": "1.2.0",
      "_view_name": "StyleView",
      "description_width": ""
     }
    },
    "e93b4a5d118d4492bf75157c5a87a4c8": {
     "model_module": "@jupyter-widgets/controls",
     "model_name": "HBoxModel",
     "model_module_version": "1.5.0",
     "state": {
      "_dom_classes": [],
      "_model_module": "@jupyter-widgets/controls",
      "_model_module_version": "1.5.0",
      "_model_name": "HBoxModel",
      "_view_count": null,
      "_view_module": "@jupyter-widgets/controls",
      "_view_module_version": "1.5.0",
      "_view_name": "HBoxView",
      "box_style": "",
      "children": [
       "IPY_MODEL_4f22bfb986084e00baa73612f5292f30",
       "IPY_MODEL_536882a0868d47f7baf51da021d08656",
       "IPY_MODEL_ed4704494f7d498f913ef4510f2309af"
      ],
      "layout": "IPY_MODEL_a0fbdcb271e949e0b556decef89fa0d2"
     }
    },
    "4f22bfb986084e00baa73612f5292f30": {
     "model_module": "@jupyter-widgets/controls",
     "model_name": "HTMLModel",
     "model_module_version": "1.5.0",
     "state": {
      "_dom_classes": [],
      "_model_module": "@jupyter-widgets/controls",
      "_model_module_version": "1.5.0",
      "_model_name": "HTMLModel",
      "_view_count": null,
      "_view_module": "@jupyter-widgets/controls",
      "_view_module_version": "1.5.0",
      "_view_name": "HTMLView",
      "description": "",
      "description_tooltip": null,
      "layout": "IPY_MODEL_d7b74af67a3e4cde894822597aa8c784",
      "placeholder": "​",
      "style": "IPY_MODEL_bb48db51c7d24c7c9af3eb989e952834",
      "value": "Map: 100%"
     }
    },
    "536882a0868d47f7baf51da021d08656": {
     "model_module": "@jupyter-widgets/controls",
     "model_name": "FloatProgressModel",
     "model_module_version": "1.5.0",
     "state": {
      "_dom_classes": [],
      "_model_module": "@jupyter-widgets/controls",
      "_model_module_version": "1.5.0",
      "_model_name": "FloatProgressModel",
      "_view_count": null,
      "_view_module": "@jupyter-widgets/controls",
      "_view_module_version": "1.5.0",
      "_view_name": "ProgressView",
      "bar_style": "success",
      "description": "",
      "description_tooltip": null,
      "layout": "IPY_MODEL_b116e51b2c094924978b824de228d203",
      "max": 8901,
      "min": 0,
      "orientation": "horizontal",
      "style": "IPY_MODEL_2465cd9f639c4d6581500ab05affc863",
      "value": 8901
     }
    },
    "ed4704494f7d498f913ef4510f2309af": {
     "model_module": "@jupyter-widgets/controls",
     "model_name": "HTMLModel",
     "model_module_version": "1.5.0",
     "state": {
      "_dom_classes": [],
      "_model_module": "@jupyter-widgets/controls",
      "_model_module_version": "1.5.0",
      "_model_name": "HTMLModel",
      "_view_count": null,
      "_view_module": "@jupyter-widgets/controls",
      "_view_module_version": "1.5.0",
      "_view_name": "HTMLView",
      "description": "",
      "description_tooltip": null,
      "layout": "IPY_MODEL_bde3bcf994f447f2b0a48e1282b2fa49",
      "placeholder": "​",
      "style": "IPY_MODEL_3145affec7974b77bdb38cc4270126a9",
      "value": " 8901/8901 [00:03&lt;00:00, 2351.55 examples/s]"
     }
    },
    "a0fbdcb271e949e0b556decef89fa0d2": {
     "model_module": "@jupyter-widgets/base",
     "model_name": "LayoutModel",
     "model_module_version": "1.2.0",
     "state": {
      "_model_module": "@jupyter-widgets/base",
      "_model_module_version": "1.2.0",
      "_model_name": "LayoutModel",
      "_view_count": null,
      "_view_module": "@jupyter-widgets/base",
      "_view_module_version": "1.2.0",
      "_view_name": "LayoutView",
      "align_content": null,
      "align_items": null,
      "align_self": null,
      "border": null,
      "bottom": null,
      "display": null,
      "flex": null,
      "flex_flow": null,
      "grid_area": null,
      "grid_auto_columns": null,
      "grid_auto_flow": null,
      "grid_auto_rows": null,
      "grid_column": null,
      "grid_gap": null,
      "grid_row": null,
      "grid_template_areas": null,
      "grid_template_columns": null,
      "grid_template_rows": null,
      "height": null,
      "justify_content": null,
      "justify_items": null,
      "left": null,
      "margin": null,
      "max_height": null,
      "max_width": null,
      "min_height": null,
      "min_width": null,
      "object_fit": null,
      "object_position": null,
      "order": null,
      "overflow": null,
      "overflow_x": null,
      "overflow_y": null,
      "padding": null,
      "right": null,
      "top": null,
      "visibility": null,
      "width": null
     }
    },
    "d7b74af67a3e4cde894822597aa8c784": {
     "model_module": "@jupyter-widgets/base",
     "model_name": "LayoutModel",
     "model_module_version": "1.2.0",
     "state": {
      "_model_module": "@jupyter-widgets/base",
      "_model_module_version": "1.2.0",
      "_model_name": "LayoutModel",
      "_view_count": null,
      "_view_module": "@jupyter-widgets/base",
      "_view_module_version": "1.2.0",
      "_view_name": "LayoutView",
      "align_content": null,
      "align_items": null,
      "align_self": null,
      "border": null,
      "bottom": null,
      "display": null,
      "flex": null,
      "flex_flow": null,
      "grid_area": null,
      "grid_auto_columns": null,
      "grid_auto_flow": null,
      "grid_auto_rows": null,
      "grid_column": null,
      "grid_gap": null,
      "grid_row": null,
      "grid_template_areas": null,
      "grid_template_columns": null,
      "grid_template_rows": null,
      "height": null,
      "justify_content": null,
      "justify_items": null,
      "left": null,
      "margin": null,
      "max_height": null,
      "max_width": null,
      "min_height": null,
      "min_width": null,
      "object_fit": null,
      "object_position": null,
      "order": null,
      "overflow": null,
      "overflow_x": null,
      "overflow_y": null,
      "padding": null,
      "right": null,
      "top": null,
      "visibility": null,
      "width": null
     }
    },
    "bb48db51c7d24c7c9af3eb989e952834": {
     "model_module": "@jupyter-widgets/controls",
     "model_name": "DescriptionStyleModel",
     "model_module_version": "1.5.0",
     "state": {
      "_model_module": "@jupyter-widgets/controls",
      "_model_module_version": "1.5.0",
      "_model_name": "DescriptionStyleModel",
      "_view_count": null,
      "_view_module": "@jupyter-widgets/base",
      "_view_module_version": "1.2.0",
      "_view_name": "StyleView",
      "description_width": ""
     }
    },
    "b116e51b2c094924978b824de228d203": {
     "model_module": "@jupyter-widgets/base",
     "model_name": "LayoutModel",
     "model_module_version": "1.2.0",
     "state": {
      "_model_module": "@jupyter-widgets/base",
      "_model_module_version": "1.2.0",
      "_model_name": "LayoutModel",
      "_view_count": null,
      "_view_module": "@jupyter-widgets/base",
      "_view_module_version": "1.2.0",
      "_view_name": "LayoutView",
      "align_content": null,
      "align_items": null,
      "align_self": null,
      "border": null,
      "bottom": null,
      "display": null,
      "flex": null,
      "flex_flow": null,
      "grid_area": null,
      "grid_auto_columns": null,
      "grid_auto_flow": null,
      "grid_auto_rows": null,
      "grid_column": null,
      "grid_gap": null,
      "grid_row": null,
      "grid_template_areas": null,
      "grid_template_columns": null,
      "grid_template_rows": null,
      "height": null,
      "justify_content": null,
      "justify_items": null,
      "left": null,
      "margin": null,
      "max_height": null,
      "max_width": null,
      "min_height": null,
      "min_width": null,
      "object_fit": null,
      "object_position": null,
      "order": null,
      "overflow": null,
      "overflow_x": null,
      "overflow_y": null,
      "padding": null,
      "right": null,
      "top": null,
      "visibility": null,
      "width": null
     }
    },
    "2465cd9f639c4d6581500ab05affc863": {
     "model_module": "@jupyter-widgets/controls",
     "model_name": "ProgressStyleModel",
     "model_module_version": "1.5.0",
     "state": {
      "_model_module": "@jupyter-widgets/controls",
      "_model_module_version": "1.5.0",
      "_model_name": "ProgressStyleModel",
      "_view_count": null,
      "_view_module": "@jupyter-widgets/base",
      "_view_module_version": "1.2.0",
      "_view_name": "StyleView",
      "bar_color": null,
      "description_width": ""
     }
    },
    "bde3bcf994f447f2b0a48e1282b2fa49": {
     "model_module": "@jupyter-widgets/base",
     "model_name": "LayoutModel",
     "model_module_version": "1.2.0",
     "state": {
      "_model_module": "@jupyter-widgets/base",
      "_model_module_version": "1.2.0",
      "_model_name": "LayoutModel",
      "_view_count": null,
      "_view_module": "@jupyter-widgets/base",
      "_view_module_version": "1.2.0",
      "_view_name": "LayoutView",
      "align_content": null,
      "align_items": null,
      "align_self": null,
      "border": null,
      "bottom": null,
      "display": null,
      "flex": null,
      "flex_flow": null,
      "grid_area": null,
      "grid_auto_columns": null,
      "grid_auto_flow": null,
      "grid_auto_rows": null,
      "grid_column": null,
      "grid_gap": null,
      "grid_row": null,
      "grid_template_areas": null,
      "grid_template_columns": null,
      "grid_template_rows": null,
      "height": null,
      "justify_content": null,
      "justify_items": null,
      "left": null,
      "margin": null,
      "max_height": null,
      "max_width": null,
      "min_height": null,
      "min_width": null,
      "object_fit": null,
      "object_position": null,
      "order": null,
      "overflow": null,
      "overflow_x": null,
      "overflow_y": null,
      "padding": null,
      "right": null,
      "top": null,
      "visibility": null,
      "width": null
     }
    },
    "3145affec7974b77bdb38cc4270126a9": {
     "model_module": "@jupyter-widgets/controls",
     "model_name": "DescriptionStyleModel",
     "model_module_version": "1.5.0",
     "state": {
      "_model_module": "@jupyter-widgets/controls",
      "_model_module_version": "1.5.0",
      "_model_name": "DescriptionStyleModel",
      "_view_count": null,
      "_view_module": "@jupyter-widgets/base",
      "_view_module_version": "1.2.0",
      "_view_name": "StyleView",
      "description_width": ""
     }
    },
    "77428b59ee514bf09a55860df29aad83": {
     "model_module": "@jupyter-widgets/controls",
     "model_name": "HBoxModel",
     "model_module_version": "1.5.0",
     "state": {
      "_dom_classes": [],
      "_model_module": "@jupyter-widgets/controls",
      "_model_module_version": "1.5.0",
      "_model_name": "HBoxModel",
      "_view_count": null,
      "_view_module": "@jupyter-widgets/controls",
      "_view_module_version": "1.5.0",
      "_view_name": "HBoxView",
      "box_style": "",
      "children": [
       "IPY_MODEL_cfd951450ac048579538522d08ea1e86",
       "IPY_MODEL_da604885fda241e7b5419399d6e1e0e1",
       "IPY_MODEL_cf597d8f300249d78d25532179f2e120"
      ],
      "layout": "IPY_MODEL_0d1abd17b7d94b4d99af23330702da15"
     }
    },
    "cfd951450ac048579538522d08ea1e86": {
     "model_module": "@jupyter-widgets/controls",
     "model_name": "HTMLModel",
     "model_module_version": "1.5.0",
     "state": {
      "_dom_classes": [],
      "_model_module": "@jupyter-widgets/controls",
      "_model_module_version": "1.5.0",
      "_model_name": "HTMLModel",
      "_view_count": null,
      "_view_module": "@jupyter-widgets/controls",
      "_view_module_version": "1.5.0",
      "_view_name": "HTMLView",
      "description": "",
      "description_tooltip": null,
      "layout": "IPY_MODEL_dc0e644616cb4adc9b5c795c256b4e69",
      "placeholder": "​",
      "style": "IPY_MODEL_ff72193138e54017b37975864ae7a7be",
      "value": "Map: 100%"
     }
    },
    "da604885fda241e7b5419399d6e1e0e1": {
     "model_module": "@jupyter-widgets/controls",
     "model_name": "FloatProgressModel",
     "model_module_version": "1.5.0",
     "state": {
      "_dom_classes": [],
      "_model_module": "@jupyter-widgets/controls",
      "_model_module_version": "1.5.0",
      "_model_name": "FloatProgressModel",
      "_view_count": null,
      "_view_module": "@jupyter-widgets/controls",
      "_view_module_version": "1.5.0",
      "_view_name": "ProgressView",
      "bar_style": "success",
      "description": "",
      "description_tooltip": null,
      "layout": "IPY_MODEL_7a7e3d800ca74aec94044e36a4adad38",
      "max": 8903,
      "min": 0,
      "orientation": "horizontal",
      "style": "IPY_MODEL_dddb95414dfd4dcba5c28f01e1947297",
      "value": 8903
     }
    },
    "cf597d8f300249d78d25532179f2e120": {
     "model_module": "@jupyter-widgets/controls",
     "model_name": "HTMLModel",
     "model_module_version": "1.5.0",
     "state": {
      "_dom_classes": [],
      "_model_module": "@jupyter-widgets/controls",
      "_model_module_version": "1.5.0",
      "_model_name": "HTMLModel",
      "_view_count": null,
      "_view_module": "@jupyter-widgets/controls",
      "_view_module_version": "1.5.0",
      "_view_name": "HTMLView",
      "description": "",
      "description_tooltip": null,
      "layout": "IPY_MODEL_63ecfa04f3d6454e98a4f48e36d49d56",
      "placeholder": "​",
      "style": "IPY_MODEL_0f91a71907264c508fb1b5dbfbbeebf9",
      "value": " 8903/8903 [00:03&lt;00:00, 2750.90 examples/s]"
     }
    },
    "0d1abd17b7d94b4d99af23330702da15": {
     "model_module": "@jupyter-widgets/base",
     "model_name": "LayoutModel",
     "model_module_version": "1.2.0",
     "state": {
      "_model_module": "@jupyter-widgets/base",
      "_model_module_version": "1.2.0",
      "_model_name": "LayoutModel",
      "_view_count": null,
      "_view_module": "@jupyter-widgets/base",
      "_view_module_version": "1.2.0",
      "_view_name": "LayoutView",
      "align_content": null,
      "align_items": null,
      "align_self": null,
      "border": null,
      "bottom": null,
      "display": null,
      "flex": null,
      "flex_flow": null,
      "grid_area": null,
      "grid_auto_columns": null,
      "grid_auto_flow": null,
      "grid_auto_rows": null,
      "grid_column": null,
      "grid_gap": null,
      "grid_row": null,
      "grid_template_areas": null,
      "grid_template_columns": null,
      "grid_template_rows": null,
      "height": null,
      "justify_content": null,
      "justify_items": null,
      "left": null,
      "margin": null,
      "max_height": null,
      "max_width": null,
      "min_height": null,
      "min_width": null,
      "object_fit": null,
      "object_position": null,
      "order": null,
      "overflow": null,
      "overflow_x": null,
      "overflow_y": null,
      "padding": null,
      "right": null,
      "top": null,
      "visibility": null,
      "width": null
     }
    },
    "dc0e644616cb4adc9b5c795c256b4e69": {
     "model_module": "@jupyter-widgets/base",
     "model_name": "LayoutModel",
     "model_module_version": "1.2.0",
     "state": {
      "_model_module": "@jupyter-widgets/base",
      "_model_module_version": "1.2.0",
      "_model_name": "LayoutModel",
      "_view_count": null,
      "_view_module": "@jupyter-widgets/base",
      "_view_module_version": "1.2.0",
      "_view_name": "LayoutView",
      "align_content": null,
      "align_items": null,
      "align_self": null,
      "border": null,
      "bottom": null,
      "display": null,
      "flex": null,
      "flex_flow": null,
      "grid_area": null,
      "grid_auto_columns": null,
      "grid_auto_flow": null,
      "grid_auto_rows": null,
      "grid_column": null,
      "grid_gap": null,
      "grid_row": null,
      "grid_template_areas": null,
      "grid_template_columns": null,
      "grid_template_rows": null,
      "height": null,
      "justify_content": null,
      "justify_items": null,
      "left": null,
      "margin": null,
      "max_height": null,
      "max_width": null,
      "min_height": null,
      "min_width": null,
      "object_fit": null,
      "object_position": null,
      "order": null,
      "overflow": null,
      "overflow_x": null,
      "overflow_y": null,
      "padding": null,
      "right": null,
      "top": null,
      "visibility": null,
      "width": null
     }
    },
    "ff72193138e54017b37975864ae7a7be": {
     "model_module": "@jupyter-widgets/controls",
     "model_name": "DescriptionStyleModel",
     "model_module_version": "1.5.0",
     "state": {
      "_model_module": "@jupyter-widgets/controls",
      "_model_module_version": "1.5.0",
      "_model_name": "DescriptionStyleModel",
      "_view_count": null,
      "_view_module": "@jupyter-widgets/base",
      "_view_module_version": "1.2.0",
      "_view_name": "StyleView",
      "description_width": ""
     }
    },
    "7a7e3d800ca74aec94044e36a4adad38": {
     "model_module": "@jupyter-widgets/base",
     "model_name": "LayoutModel",
     "model_module_version": "1.2.0",
     "state": {
      "_model_module": "@jupyter-widgets/base",
      "_model_module_version": "1.2.0",
      "_model_name": "LayoutModel",
      "_view_count": null,
      "_view_module": "@jupyter-widgets/base",
      "_view_module_version": "1.2.0",
      "_view_name": "LayoutView",
      "align_content": null,
      "align_items": null,
      "align_self": null,
      "border": null,
      "bottom": null,
      "display": null,
      "flex": null,
      "flex_flow": null,
      "grid_area": null,
      "grid_auto_columns": null,
      "grid_auto_flow": null,
      "grid_auto_rows": null,
      "grid_column": null,
      "grid_gap": null,
      "grid_row": null,
      "grid_template_areas": null,
      "grid_template_columns": null,
      "grid_template_rows": null,
      "height": null,
      "justify_content": null,
      "justify_items": null,
      "left": null,
      "margin": null,
      "max_height": null,
      "max_width": null,
      "min_height": null,
      "min_width": null,
      "object_fit": null,
      "object_position": null,
      "order": null,
      "overflow": null,
      "overflow_x": null,
      "overflow_y": null,
      "padding": null,
      "right": null,
      "top": null,
      "visibility": null,
      "width": null
     }
    },
    "dddb95414dfd4dcba5c28f01e1947297": {
     "model_module": "@jupyter-widgets/controls",
     "model_name": "ProgressStyleModel",
     "model_module_version": "1.5.0",
     "state": {
      "_model_module": "@jupyter-widgets/controls",
      "_model_module_version": "1.5.0",
      "_model_name": "ProgressStyleModel",
      "_view_count": null,
      "_view_module": "@jupyter-widgets/base",
      "_view_module_version": "1.2.0",
      "_view_name": "StyleView",
      "bar_color": null,
      "description_width": ""
     }
    },
    "63ecfa04f3d6454e98a4f48e36d49d56": {
     "model_module": "@jupyter-widgets/base",
     "model_name": "LayoutModel",
     "model_module_version": "1.2.0",
     "state": {
      "_model_module": "@jupyter-widgets/base",
      "_model_module_version": "1.2.0",
      "_model_name": "LayoutModel",
      "_view_count": null,
      "_view_module": "@jupyter-widgets/base",
      "_view_module_version": "1.2.0",
      "_view_name": "LayoutView",
      "align_content": null,
      "align_items": null,
      "align_self": null,
      "border": null,
      "bottom": null,
      "display": null,
      "flex": null,
      "flex_flow": null,
      "grid_area": null,
      "grid_auto_columns": null,
      "grid_auto_flow": null,
      "grid_auto_rows": null,
      "grid_column": null,
      "grid_gap": null,
      "grid_row": null,
      "grid_template_areas": null,
      "grid_template_columns": null,
      "grid_template_rows": null,
      "height": null,
      "justify_content": null,
      "justify_items": null,
      "left": null,
      "margin": null,
      "max_height": null,
      "max_width": null,
      "min_height": null,
      "min_width": null,
      "object_fit": null,
      "object_position": null,
      "order": null,
      "overflow": null,
      "overflow_x": null,
      "overflow_y": null,
      "padding": null,
      "right": null,
      "top": null,
      "visibility": null,
      "width": null
     }
    },
    "0f91a71907264c508fb1b5dbfbbeebf9": {
     "model_module": "@jupyter-widgets/controls",
     "model_name": "DescriptionStyleModel",
     "model_module_version": "1.5.0",
     "state": {
      "_model_module": "@jupyter-widgets/controls",
      "_model_module_version": "1.5.0",
      "_model_name": "DescriptionStyleModel",
      "_view_count": null,
      "_view_module": "@jupyter-widgets/base",
      "_view_module_version": "1.2.0",
      "_view_name": "StyleView",
      "description_width": ""
     }
    }
   }
  },
  "accelerator": "GPU"
 },
 "nbformat": 4,
 "nbformat_minor": 0
}
